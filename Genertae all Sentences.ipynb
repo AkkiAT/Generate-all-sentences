{
 "cells": [
  {
   "cell_type": "code",
   "execution_count": 5,
   "metadata": {},
   "outputs": [
    {
     "name": "stdout",
     "output_type": "stream",
     "text": [
      "I Play Hockey.\n",
      "I Play Football.\n",
      "I Love Hockey.\n",
      "I Love Football.\n",
      "You Play Hockey.\n",
      "You Play Football.\n",
      "You Love Hockey.\n",
      "You Love Football.\n"
     ]
    }
   ],
   "source": [
    "#Program to generate all sentences\n",
    "subjects = [\"I\", \"You\"]\n",
    "verbs = [\"Play\", \"Love\"]\n",
    "objects = [\"Hockey\", \"Football\"]\n",
    "\n",
    "sentences = []\n",
    "\n",
    "for sub in subjects:\n",
    "    for vrb in verbs:\n",
    "        for obj in objects:\n",
    "            sentence = f\"{sub} {vrb} {obj}.\"\n",
    "            sentences.append(sentence)\n",
    "            \n",
    "for sentence in sentences:\n",
    "    print(sentence)            "
   ]
  }
 ],
 "metadata": {
  "kernelspec": {
   "display_name": ".venv",
   "language": "python",
   "name": "python3"
  },
  "language_info": {
   "codemirror_mode": {
    "name": "ipython",
    "version": 3
   },
   "file_extension": ".py",
   "mimetype": "text/x-python",
   "name": "python",
   "nbconvert_exporter": "python",
   "pygments_lexer": "ipython3",
   "version": "3.12.2"
  }
 },
 "nbformat": 4,
 "nbformat_minor": 2
}
